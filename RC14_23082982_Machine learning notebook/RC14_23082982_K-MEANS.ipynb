{
 "cells": [
  {
   "cell_type": "markdown",
   "metadata": {},
   "source": [
    "## Libraries"
   ]
  },
  {
   "cell_type": "code",
   "execution_count": 1,
   "metadata": {},
   "outputs": [],
   "source": [
    "import pandas as pd\n",
    "import numpy as np\n",
    "import seaborn as sns\n",
    "import matplotlib\n",
    "%matplotlib inline\n",
    "from matplotlib import pyplot as plt"
   ]
  },
  {
   "cell_type": "markdown",
   "metadata": {},
   "source": [
    "## The Data"
   ]
  },
  {
   "cell_type": "code",
   "execution_count": 15,
   "metadata": {
    "scrolled": true
   },
   "outputs": [
    {
     "data": {
      "text/html": [
       "<div>\n",
       "<style scoped>\n",
       "    .dataframe tbody tr th:only-of-type {\n",
       "        vertical-align: middle;\n",
       "    }\n",
       "\n",
       "    .dataframe tbody tr th {\n",
       "        vertical-align: top;\n",
       "    }\n",
       "\n",
       "    .dataframe thead th {\n",
       "        text-align: right;\n",
       "    }\n",
       "</style>\n",
       "<table border=\"1\" class=\"dataframe\">\n",
       "  <thead>\n",
       "    <tr style=\"text-align: right;\">\n",
       "      <th></th>\n",
       "      <th>id</th>\n",
       "      <th>Wellbeing score</th>\n",
       "      <th>BuildingHeights</th>\n",
       "      <th>Integration</th>\n",
       "      <th>Flow</th>\n",
       "      <th>PTAL</th>\n",
       "      <th>Casualty</th>\n",
       "      <th>Fuel</th>\n",
       "      <th>Supermarket</th>\n",
       "      <th>Choice</th>\n",
       "    </tr>\n",
       "  </thead>\n",
       "  <tbody>\n",
       "    <tr>\n",
       "      <th>0</th>\n",
       "      <td>1</td>\n",
       "      <td>0.134691</td>\n",
       "      <td>0.388653</td>\n",
       "      <td>0.000000</td>\n",
       "      <td>180</td>\n",
       "      <td>0.37562</td>\n",
       "      <td>0.443</td>\n",
       "      <td>1.56945</td>\n",
       "      <td>0</td>\n",
       "      <td>0</td>\n",
       "    </tr>\n",
       "    <tr>\n",
       "      <th>1</th>\n",
       "      <td>2</td>\n",
       "      <td>0.134691</td>\n",
       "      <td>0.388653</td>\n",
       "      <td>0.000000</td>\n",
       "      <td>180</td>\n",
       "      <td>0.37562</td>\n",
       "      <td>0.443</td>\n",
       "      <td>1.56945</td>\n",
       "      <td>0</td>\n",
       "      <td>0</td>\n",
       "    </tr>\n",
       "    <tr>\n",
       "      <th>2</th>\n",
       "      <td>3</td>\n",
       "      <td>0.134691</td>\n",
       "      <td>0.388653</td>\n",
       "      <td>0.000000</td>\n",
       "      <td>180</td>\n",
       "      <td>0.37562</td>\n",
       "      <td>0.443</td>\n",
       "      <td>1.56945</td>\n",
       "      <td>0</td>\n",
       "      <td>0</td>\n",
       "    </tr>\n",
       "    <tr>\n",
       "      <th>3</th>\n",
       "      <td>4</td>\n",
       "      <td>0.134691</td>\n",
       "      <td>0.388653</td>\n",
       "      <td>0.001579</td>\n",
       "      <td>184</td>\n",
       "      <td>0.37542</td>\n",
       "      <td>0.440</td>\n",
       "      <td>1.57993</td>\n",
       "      <td>0</td>\n",
       "      <td>0</td>\n",
       "    </tr>\n",
       "    <tr>\n",
       "      <th>4</th>\n",
       "      <td>5</td>\n",
       "      <td>0.134691</td>\n",
       "      <td>0.010464</td>\n",
       "      <td>0.000000</td>\n",
       "      <td>692</td>\n",
       "      <td>0.34858</td>\n",
       "      <td>0.111</td>\n",
       "      <td>2.75711</td>\n",
       "      <td>0</td>\n",
       "      <td>0</td>\n",
       "    </tr>\n",
       "  </tbody>\n",
       "</table>\n",
       "</div>"
      ],
      "text/plain": [
       "   id  Wellbeing score  BuildingHeights  Integration  Flow     PTAL  Casualty  \\\n",
       "0   1         0.134691         0.388653     0.000000   180  0.37562     0.443   \n",
       "1   2         0.134691         0.388653     0.000000   180  0.37562     0.443   \n",
       "2   3         0.134691         0.388653     0.000000   180  0.37562     0.443   \n",
       "3   4         0.134691         0.388653     0.001579   184  0.37542     0.440   \n",
       "4   5         0.134691         0.010464     0.000000   692  0.34858     0.111   \n",
       "\n",
       "      Fuel  Supermarket  Choice  \n",
       "0  1.56945            0       0  \n",
       "1  1.56945            0       0  \n",
       "2  1.56945            0       0  \n",
       "3  1.57993            0       0  \n",
       "4  2.75711            0       0  "
      ]
     },
     "execution_count": 15,
     "metadata": {},
     "output_type": "execute_result"
    }
   ],
   "source": [
    "#read the dataset\n",
    "df = pd.read_csv('K-menas 2.csv')\n",
    "df.head()"
   ]
  },
  {
   "cell_type": "code",
   "execution_count": 16,
   "metadata": {
    "scrolled": false
   },
   "outputs": [
    {
     "data": {
      "text/plain": [
       "(37650, 10)"
      ]
     },
     "execution_count": 16,
     "metadata": {},
     "output_type": "execute_result"
    }
   ],
   "source": [
    "df.shape"
   ]
  },
  {
   "cell_type": "code",
   "execution_count": 17,
   "metadata": {},
   "outputs": [],
   "source": [
    "for column in df.columns:\n",
    "    if df[column].dtype != 'object':  # Ignore non-numeric columns\n",
    "        min_value = df[column].min()\n",
    "        df[column].fillna(min_value, inplace=True)"
   ]
  },
  {
   "cell_type": "code",
   "execution_count": 18,
   "metadata": {},
   "outputs": [
    {
     "data": {
      "text/html": [
       "<div>\n",
       "<style scoped>\n",
       "    .dataframe tbody tr th:only-of-type {\n",
       "        vertical-align: middle;\n",
       "    }\n",
       "\n",
       "    .dataframe tbody tr th {\n",
       "        vertical-align: top;\n",
       "    }\n",
       "\n",
       "    .dataframe thead th {\n",
       "        text-align: right;\n",
       "    }\n",
       "</style>\n",
       "<table border=\"1\" class=\"dataframe\">\n",
       "  <thead>\n",
       "    <tr style=\"text-align: right;\">\n",
       "      <th></th>\n",
       "      <th>id</th>\n",
       "      <th>Wellbeing score</th>\n",
       "      <th>BuildingHeights</th>\n",
       "      <th>Integration</th>\n",
       "      <th>Flow</th>\n",
       "      <th>PTAL</th>\n",
       "      <th>Casualty</th>\n",
       "      <th>Fuel</th>\n",
       "      <th>Supermarket</th>\n",
       "      <th>Choice</th>\n",
       "    </tr>\n",
       "  </thead>\n",
       "  <tbody>\n",
       "    <tr>\n",
       "      <th>0</th>\n",
       "      <td>1</td>\n",
       "      <td>0.134691</td>\n",
       "      <td>0.388653</td>\n",
       "      <td>0.000000</td>\n",
       "      <td>180</td>\n",
       "      <td>0.37562</td>\n",
       "      <td>0.443</td>\n",
       "      <td>1.56945</td>\n",
       "      <td>0</td>\n",
       "      <td>0</td>\n",
       "    </tr>\n",
       "    <tr>\n",
       "      <th>1</th>\n",
       "      <td>2</td>\n",
       "      <td>0.134691</td>\n",
       "      <td>0.388653</td>\n",
       "      <td>0.000000</td>\n",
       "      <td>180</td>\n",
       "      <td>0.37562</td>\n",
       "      <td>0.443</td>\n",
       "      <td>1.56945</td>\n",
       "      <td>0</td>\n",
       "      <td>0</td>\n",
       "    </tr>\n",
       "    <tr>\n",
       "      <th>2</th>\n",
       "      <td>3</td>\n",
       "      <td>0.134691</td>\n",
       "      <td>0.388653</td>\n",
       "      <td>0.000000</td>\n",
       "      <td>180</td>\n",
       "      <td>0.37562</td>\n",
       "      <td>0.443</td>\n",
       "      <td>1.56945</td>\n",
       "      <td>0</td>\n",
       "      <td>0</td>\n",
       "    </tr>\n",
       "    <tr>\n",
       "      <th>3</th>\n",
       "      <td>4</td>\n",
       "      <td>0.134691</td>\n",
       "      <td>0.388653</td>\n",
       "      <td>0.001579</td>\n",
       "      <td>184</td>\n",
       "      <td>0.37542</td>\n",
       "      <td>0.440</td>\n",
       "      <td>1.57993</td>\n",
       "      <td>0</td>\n",
       "      <td>0</td>\n",
       "    </tr>\n",
       "    <tr>\n",
       "      <th>4</th>\n",
       "      <td>5</td>\n",
       "      <td>0.134691</td>\n",
       "      <td>0.010464</td>\n",
       "      <td>0.000000</td>\n",
       "      <td>692</td>\n",
       "      <td>0.34858</td>\n",
       "      <td>0.111</td>\n",
       "      <td>2.75711</td>\n",
       "      <td>0</td>\n",
       "      <td>0</td>\n",
       "    </tr>\n",
       "  </tbody>\n",
       "</table>\n",
       "</div>"
      ],
      "text/plain": [
       "   id  Wellbeing score  BuildingHeights  Integration  Flow     PTAL  Casualty  \\\n",
       "0   1         0.134691         0.388653     0.000000   180  0.37562     0.443   \n",
       "1   2         0.134691         0.388653     0.000000   180  0.37562     0.443   \n",
       "2   3         0.134691         0.388653     0.000000   180  0.37562     0.443   \n",
       "3   4         0.134691         0.388653     0.001579   184  0.37542     0.440   \n",
       "4   5         0.134691         0.010464     0.000000   692  0.34858     0.111   \n",
       "\n",
       "      Fuel  Supermarket  Choice  \n",
       "0  1.56945            0       0  \n",
       "1  1.56945            0       0  \n",
       "2  1.56945            0       0  \n",
       "3  1.57993            0       0  \n",
       "4  2.75711            0       0  "
      ]
     },
     "execution_count": 18,
     "metadata": {},
     "output_type": "execute_result"
    }
   ],
   "source": [
    "df.head()# Get the first 5 rows"
   ]
  },
  {
   "cell_type": "code",
   "execution_count": 19,
   "metadata": {
    "scrolled": true
   },
   "outputs": [
    {
     "name": "stdout",
     "output_type": "stream",
     "text": [
      "<class 'pandas.core.frame.DataFrame'>\n",
      "RangeIndex: 37650 entries, 0 to 37649\n",
      "Data columns (total 10 columns):\n",
      " #   Column           Non-Null Count  Dtype  \n",
      "---  ------           --------------  -----  \n",
      " 0   id               37650 non-null  int64  \n",
      " 1   Wellbeing score  37650 non-null  float64\n",
      " 2   BuildingHeights  37650 non-null  float64\n",
      " 3   Integration      37650 non-null  float64\n",
      " 4   Flow             37650 non-null  int64  \n",
      " 5   PTAL             37650 non-null  float64\n",
      " 6   Casualty         37650 non-null  float64\n",
      " 7   Fuel             37650 non-null  float64\n",
      " 8   Supermarket      37650 non-null  int64  \n",
      " 9   Choice           37650 non-null  int64  \n",
      "dtypes: float64(6), int64(4)\n",
      "memory usage: 2.9 MB\n"
     ]
    }
   ],
   "source": [
    "df.info()"
   ]
  },
  {
   "cell_type": "code",
   "execution_count": 22,
   "metadata": {
    "scrolled": false
   },
   "outputs": [
    {
     "data": {
      "text/plain": [
       "Index(['id', 'Wellbeing score', 'BuildingHeights', 'Integration', 'Flow',\n",
       "       'PTAL', 'Casualty', 'Fuel', 'Supermarket', 'Choice'],\n",
       "      dtype='object')"
      ]
     },
     "execution_count": 22,
     "metadata": {},
     "output_type": "execute_result"
    }
   ],
   "source": [
    "df.columns"
   ]
  },
  {
   "cell_type": "markdown",
   "metadata": {},
   "source": [
    "## Clean DATA"
   ]
  },
  {
   "cell_type": "code",
   "execution_count": 23,
   "metadata": {},
   "outputs": [],
   "source": [
    "data=df[[ 'Wellbeing score', 'BuildingHeights', 'Integration', 'Flow',\n",
    "       'PTAL', 'Casualty', 'Fuel', 'Supermarket', 'Choice']]"
   ]
  },
  {
   "cell_type": "code",
   "execution_count": 24,
   "metadata": {
    "scrolled": true
   },
   "outputs": [
    {
     "data": {
      "text/plain": [
       "(37650, 9)"
      ]
     },
     "execution_count": 24,
     "metadata": {},
     "output_type": "execute_result"
    }
   ],
   "source": [
    "data.shape"
   ]
  },
  {
   "cell_type": "code",
   "execution_count": 32,
   "metadata": {
    "scrolled": true
   },
   "outputs": [
    {
     "data": {
      "text/html": [
       "<div>\n",
       "<style scoped>\n",
       "    .dataframe tbody tr th:only-of-type {\n",
       "        vertical-align: middle;\n",
       "    }\n",
       "\n",
       "    .dataframe tbody tr th {\n",
       "        vertical-align: top;\n",
       "    }\n",
       "\n",
       "    .dataframe thead th {\n",
       "        text-align: right;\n",
       "    }\n",
       "</style>\n",
       "<table border=\"1\" class=\"dataframe\">\n",
       "  <thead>\n",
       "    <tr style=\"text-align: right;\">\n",
       "      <th></th>\n",
       "      <th>Wellbeing score</th>\n",
       "      <th>BuildingHeights</th>\n",
       "      <th>Integration</th>\n",
       "      <th>Flow</th>\n",
       "      <th>PTAL</th>\n",
       "      <th>Casualty</th>\n",
       "      <th>Fuel</th>\n",
       "      <th>Supermarket</th>\n",
       "      <th>Choice</th>\n",
       "    </tr>\n",
       "  </thead>\n",
       "  <tbody>\n",
       "    <tr>\n",
       "      <th>0</th>\n",
       "      <td>0.134691</td>\n",
       "      <td>0.388653</td>\n",
       "      <td>0.000000</td>\n",
       "      <td>180</td>\n",
       "      <td>0.37562</td>\n",
       "      <td>0.443</td>\n",
       "      <td>1.56945</td>\n",
       "      <td>0</td>\n",
       "      <td>0</td>\n",
       "    </tr>\n",
       "    <tr>\n",
       "      <th>1</th>\n",
       "      <td>0.134691</td>\n",
       "      <td>0.388653</td>\n",
       "      <td>0.000000</td>\n",
       "      <td>180</td>\n",
       "      <td>0.37562</td>\n",
       "      <td>0.443</td>\n",
       "      <td>1.56945</td>\n",
       "      <td>0</td>\n",
       "      <td>0</td>\n",
       "    </tr>\n",
       "    <tr>\n",
       "      <th>2</th>\n",
       "      <td>0.134691</td>\n",
       "      <td>0.388653</td>\n",
       "      <td>0.000000</td>\n",
       "      <td>180</td>\n",
       "      <td>0.37562</td>\n",
       "      <td>0.443</td>\n",
       "      <td>1.56945</td>\n",
       "      <td>0</td>\n",
       "      <td>0</td>\n",
       "    </tr>\n",
       "    <tr>\n",
       "      <th>3</th>\n",
       "      <td>0.134691</td>\n",
       "      <td>0.388653</td>\n",
       "      <td>0.001579</td>\n",
       "      <td>184</td>\n",
       "      <td>0.37542</td>\n",
       "      <td>0.440</td>\n",
       "      <td>1.57993</td>\n",
       "      <td>0</td>\n",
       "      <td>0</td>\n",
       "    </tr>\n",
       "    <tr>\n",
       "      <th>4</th>\n",
       "      <td>0.134691</td>\n",
       "      <td>0.010464</td>\n",
       "      <td>0.000000</td>\n",
       "      <td>692</td>\n",
       "      <td>0.34858</td>\n",
       "      <td>0.111</td>\n",
       "      <td>2.75711</td>\n",
       "      <td>0</td>\n",
       "      <td>0</td>\n",
       "    </tr>\n",
       "  </tbody>\n",
       "</table>\n",
       "</div>"
      ],
      "text/plain": [
       "   Wellbeing score  BuildingHeights  Integration  Flow     PTAL  Casualty  \\\n",
       "0         0.134691         0.388653     0.000000   180  0.37562     0.443   \n",
       "1         0.134691         0.388653     0.000000   180  0.37562     0.443   \n",
       "2         0.134691         0.388653     0.000000   180  0.37562     0.443   \n",
       "3         0.134691         0.388653     0.001579   184  0.37542     0.440   \n",
       "4         0.134691         0.010464     0.000000   692  0.34858     0.111   \n",
       "\n",
       "      Fuel  Supermarket  Choice  \n",
       "0  1.56945            0       0  \n",
       "1  1.56945            0       0  \n",
       "2  1.56945            0       0  \n",
       "3  1.57993            0       0  \n",
       "4  2.75711            0       0  "
      ]
     },
     "execution_count": 32,
     "metadata": {},
     "output_type": "execute_result"
    }
   ],
   "source": [
    "data.head()"
   ]
  },
  {
   "cell_type": "code",
   "execution_count": 33,
   "metadata": {
    "scrolled": true
   },
   "outputs": [
    {
     "data": {
      "text/plain": [
       "False"
      ]
     },
     "execution_count": 33,
     "metadata": {},
     "output_type": "execute_result"
    }
   ],
   "source": [
    "data.isnull().values.any()#check if there is any null value"
   ]
  },
  {
   "cell_type": "code",
   "execution_count": 34,
   "metadata": {},
   "outputs": [],
   "source": [
    "datalocation=df[['id']]"
   ]
  },
  {
   "cell_type": "code",
   "execution_count": 35,
   "metadata": {
    "scrolled": true
   },
   "outputs": [
    {
     "data": {
      "text/html": [
       "<div>\n",
       "<style scoped>\n",
       "    .dataframe tbody tr th:only-of-type {\n",
       "        vertical-align: middle;\n",
       "    }\n",
       "\n",
       "    .dataframe tbody tr th {\n",
       "        vertical-align: top;\n",
       "    }\n",
       "\n",
       "    .dataframe thead th {\n",
       "        text-align: right;\n",
       "    }\n",
       "</style>\n",
       "<table border=\"1\" class=\"dataframe\">\n",
       "  <thead>\n",
       "    <tr style=\"text-align: right;\">\n",
       "      <th></th>\n",
       "      <th>id</th>\n",
       "    </tr>\n",
       "  </thead>\n",
       "  <tbody>\n",
       "    <tr>\n",
       "      <th>0</th>\n",
       "      <td>1</td>\n",
       "    </tr>\n",
       "    <tr>\n",
       "      <th>1</th>\n",
       "      <td>2</td>\n",
       "    </tr>\n",
       "    <tr>\n",
       "      <th>2</th>\n",
       "      <td>3</td>\n",
       "    </tr>\n",
       "    <tr>\n",
       "      <th>3</th>\n",
       "      <td>4</td>\n",
       "    </tr>\n",
       "    <tr>\n",
       "      <th>4</th>\n",
       "      <td>5</td>\n",
       "    </tr>\n",
       "  </tbody>\n",
       "</table>\n",
       "</div>"
      ],
      "text/plain": [
       "   id\n",
       "0   1\n",
       "1   2\n",
       "2   3\n",
       "3   4\n",
       "4   5"
      ]
     },
     "execution_count": 35,
     "metadata": {},
     "output_type": "execute_result"
    }
   ],
   "source": [
    "datalocation.head()"
   ]
  },
  {
   "cell_type": "code",
   "execution_count": 36,
   "metadata": {},
   "outputs": [],
   "source": [
    "import os\n",
    "\n",
    "# 2. Normalize the data\n",
    "normalized_df = data.copy()\n",
    "for column in data.columns:\n",
    "    if normalized_df[column].dtype != 'object':  \n",
    "        max_value = normalized_df[column].max()\n",
    "        normalized_df[column] = normalized_df[column] / max_value\n",
    "\n",
    "codebook_path = os.path.abspath('codebook.csv')\n",
    "save_dir = os.path.dirname(codebook_path)\n",
    "\n",
    "# Create the full path for the new CSV file\n",
    "normalized_csv_file = os.path.join(save_dir, 'normalized_data.csv')\n",
    "\n",
    "# 3. The normalized data is saved back to a CSV file\n",
    "normalized_df.to_csv(normalized_csv_file, index=False)\n"
   ]
  },
  {
   "cell_type": "code",
   "execution_count": 37,
   "metadata": {
    "scrolled": false
   },
   "outputs": [
    {
     "data": {
      "text/html": [
       "<div>\n",
       "<style scoped>\n",
       "    .dataframe tbody tr th:only-of-type {\n",
       "        vertical-align: middle;\n",
       "    }\n",
       "\n",
       "    .dataframe tbody tr th {\n",
       "        vertical-align: top;\n",
       "    }\n",
       "\n",
       "    .dataframe thead th {\n",
       "        text-align: right;\n",
       "    }\n",
       "</style>\n",
       "<table border=\"1\" class=\"dataframe\">\n",
       "  <thead>\n",
       "    <tr style=\"text-align: right;\">\n",
       "      <th></th>\n",
       "      <th>Wellbeing score</th>\n",
       "      <th>BuildingHeights</th>\n",
       "      <th>Integration</th>\n",
       "      <th>Flow</th>\n",
       "      <th>PTAL</th>\n",
       "      <th>Casualty</th>\n",
       "      <th>Fuel</th>\n",
       "      <th>Supermarket</th>\n",
       "      <th>Choice</th>\n",
       "    </tr>\n",
       "  </thead>\n",
       "  <tbody>\n",
       "    <tr>\n",
       "      <th>0</th>\n",
       "      <td>0.134691</td>\n",
       "      <td>0.388653</td>\n",
       "      <td>0.000000</td>\n",
       "      <td>0.016541</td>\n",
       "      <td>0.022895</td>\n",
       "      <td>0.065243</td>\n",
       "      <td>0.056563</td>\n",
       "      <td>0.0</td>\n",
       "      <td>0.0</td>\n",
       "    </tr>\n",
       "    <tr>\n",
       "      <th>1</th>\n",
       "      <td>0.134691</td>\n",
       "      <td>0.388653</td>\n",
       "      <td>0.000000</td>\n",
       "      <td>0.016541</td>\n",
       "      <td>0.022895</td>\n",
       "      <td>0.065243</td>\n",
       "      <td>0.056563</td>\n",
       "      <td>0.0</td>\n",
       "      <td>0.0</td>\n",
       "    </tr>\n",
       "    <tr>\n",
       "      <th>2</th>\n",
       "      <td>0.134691</td>\n",
       "      <td>0.388653</td>\n",
       "      <td>0.000000</td>\n",
       "      <td>0.016541</td>\n",
       "      <td>0.022895</td>\n",
       "      <td>0.065243</td>\n",
       "      <td>0.056563</td>\n",
       "      <td>0.0</td>\n",
       "      <td>0.0</td>\n",
       "    </tr>\n",
       "    <tr>\n",
       "      <th>3</th>\n",
       "      <td>0.134691</td>\n",
       "      <td>0.388653</td>\n",
       "      <td>0.001579</td>\n",
       "      <td>0.016909</td>\n",
       "      <td>0.022883</td>\n",
       "      <td>0.064801</td>\n",
       "      <td>0.056941</td>\n",
       "      <td>0.0</td>\n",
       "      <td>0.0</td>\n",
       "    </tr>\n",
       "    <tr>\n",
       "      <th>4</th>\n",
       "      <td>0.134691</td>\n",
       "      <td>0.010464</td>\n",
       "      <td>0.000000</td>\n",
       "      <td>0.063591</td>\n",
       "      <td>0.021247</td>\n",
       "      <td>0.016348</td>\n",
       "      <td>0.099367</td>\n",
       "      <td>0.0</td>\n",
       "      <td>0.0</td>\n",
       "    </tr>\n",
       "  </tbody>\n",
       "</table>\n",
       "</div>"
      ],
      "text/plain": [
       "   Wellbeing score  BuildingHeights  Integration      Flow      PTAL  \\\n",
       "0         0.134691         0.388653     0.000000  0.016541  0.022895   \n",
       "1         0.134691         0.388653     0.000000  0.016541  0.022895   \n",
       "2         0.134691         0.388653     0.000000  0.016541  0.022895   \n",
       "3         0.134691         0.388653     0.001579  0.016909  0.022883   \n",
       "4         0.134691         0.010464     0.000000  0.063591  0.021247   \n",
       "\n",
       "   Casualty      Fuel  Supermarket  Choice  \n",
       "0  0.065243  0.056563          0.0     0.0  \n",
       "1  0.065243  0.056563          0.0     0.0  \n",
       "2  0.065243  0.056563          0.0     0.0  \n",
       "3  0.064801  0.056941          0.0     0.0  \n",
       "4  0.016348  0.099367          0.0     0.0  "
      ]
     },
     "execution_count": 37,
     "metadata": {},
     "output_type": "execute_result"
    }
   ],
   "source": [
    "#Re-read the file, noting that the data read below belongs to the normalized_data file\n",
    "df = pd.read_csv('normalized_data.csv')\n",
    "df.head()"
   ]
  },
  {
   "cell_type": "code",
   "execution_count": 38,
   "metadata": {
    "scrolled": true
   },
   "outputs": [
    {
     "name": "stdout",
     "output_type": "stream",
     "text": [
      "<class 'pandas.core.frame.DataFrame'>\n",
      "RangeIndex: 37650 entries, 0 to 37649\n",
      "Data columns (total 9 columns):\n",
      " #   Column           Non-Null Count  Dtype  \n",
      "---  ------           --------------  -----  \n",
      " 0   Wellbeing score  37650 non-null  float64\n",
      " 1   BuildingHeights  37650 non-null  float64\n",
      " 2   Integration      37650 non-null  float64\n",
      " 3   Flow             37650 non-null  float64\n",
      " 4   PTAL             37650 non-null  float64\n",
      " 5   Casualty         37650 non-null  float64\n",
      " 6   Fuel             37650 non-null  float64\n",
      " 7   Supermarket      37650 non-null  float64\n",
      " 8   Choice           37650 non-null  float64\n",
      "dtypes: float64(9)\n",
      "memory usage: 2.6 MB\n"
     ]
    }
   ],
   "source": [
    "df.info()"
   ]
  },
  {
   "cell_type": "code",
   "execution_count": 39,
   "metadata": {
    "scrolled": true
   },
   "outputs": [
    {
     "data": {
      "text/plain": [
       "Index(['Wellbeing score', 'BuildingHeights', 'Integration', 'Flow', 'PTAL',\n",
       "       'Casualty', 'Fuel', 'Supermarket', 'Choice'],\n",
       "      dtype='object')"
      ]
     },
     "execution_count": 39,
     "metadata": {},
     "output_type": "execute_result"
    }
   ],
   "source": [
    "df.columns"
   ]
  },
  {
   "cell_type": "code",
   "execution_count": 42,
   "metadata": {},
   "outputs": [],
   "source": [
    "#Group(If it is necessary to group the data.All the datas are counted as one group here)\n",
    "data1=df[['Wellbeing score', 'BuildingHeights', 'Integration', 'Flow', 'PTAL',\n",
    "       'Casualty', 'Fuel', 'Supermarket', 'Choice']]"
   ]
  },
  {
   "cell_type": "markdown",
   "metadata": {},
   "source": [
    "## Visualisation"
   ]
  },
  {
   "cell_type": "code",
   "execution_count": 43,
   "metadata": {
    "scrolled": true
   },
   "outputs": [
    {
     "data": {
      "text/html": [
       "<div>\n",
       "<style scoped>\n",
       "    .dataframe tbody tr th:only-of-type {\n",
       "        vertical-align: middle;\n",
       "    }\n",
       "\n",
       "    .dataframe tbody tr th {\n",
       "        vertical-align: top;\n",
       "    }\n",
       "\n",
       "    .dataframe thead th {\n",
       "        text-align: right;\n",
       "    }\n",
       "</style>\n",
       "<table border=\"1\" class=\"dataframe\">\n",
       "  <thead>\n",
       "    <tr style=\"text-align: right;\">\n",
       "      <th></th>\n",
       "      <th>Wellbeing score</th>\n",
       "      <th>BuildingHeights</th>\n",
       "      <th>Integration</th>\n",
       "      <th>Flow</th>\n",
       "      <th>PTAL</th>\n",
       "      <th>Casualty</th>\n",
       "      <th>Fuel</th>\n",
       "      <th>Supermarket</th>\n",
       "      <th>Choice</th>\n",
       "    </tr>\n",
       "  </thead>\n",
       "  <tbody>\n",
       "    <tr>\n",
       "      <th>Wellbeing score</th>\n",
       "      <td>1.000000</td>\n",
       "      <td>0.237022</td>\n",
       "      <td>0.395444</td>\n",
       "      <td>0.330256</td>\n",
       "      <td>0.596362</td>\n",
       "      <td>0.401585</td>\n",
       "      <td>0.670477</td>\n",
       "      <td>0.055756</td>\n",
       "      <td>0.212633</td>\n",
       "    </tr>\n",
       "    <tr>\n",
       "      <th>BuildingHeights</th>\n",
       "      <td>0.237022</td>\n",
       "      <td>1.000000</td>\n",
       "      <td>0.382123</td>\n",
       "      <td>0.148397</td>\n",
       "      <td>0.378296</td>\n",
       "      <td>0.347461</td>\n",
       "      <td>0.192475</td>\n",
       "      <td>0.128714</td>\n",
       "      <td>0.252382</td>\n",
       "    </tr>\n",
       "    <tr>\n",
       "      <th>Integration</th>\n",
       "      <td>0.395444</td>\n",
       "      <td>0.382123</td>\n",
       "      <td>1.000000</td>\n",
       "      <td>0.210076</td>\n",
       "      <td>0.504597</td>\n",
       "      <td>0.429634</td>\n",
       "      <td>0.327591</td>\n",
       "      <td>0.121630</td>\n",
       "      <td>0.697252</td>\n",
       "    </tr>\n",
       "    <tr>\n",
       "      <th>Flow</th>\n",
       "      <td>0.330256</td>\n",
       "      <td>0.148397</td>\n",
       "      <td>0.210076</td>\n",
       "      <td>1.000000</td>\n",
       "      <td>0.354280</td>\n",
       "      <td>0.274211</td>\n",
       "      <td>0.457573</td>\n",
       "      <td>0.033376</td>\n",
       "      <td>0.133647</td>\n",
       "    </tr>\n",
       "    <tr>\n",
       "      <th>PTAL</th>\n",
       "      <td>0.596362</td>\n",
       "      <td>0.378296</td>\n",
       "      <td>0.504597</td>\n",
       "      <td>0.354280</td>\n",
       "      <td>1.000000</td>\n",
       "      <td>0.557455</td>\n",
       "      <td>0.607430</td>\n",
       "      <td>0.093586</td>\n",
       "      <td>0.281108</td>\n",
       "    </tr>\n",
       "    <tr>\n",
       "      <th>Casualty</th>\n",
       "      <td>0.401585</td>\n",
       "      <td>0.347461</td>\n",
       "      <td>0.429634</td>\n",
       "      <td>0.274211</td>\n",
       "      <td>0.557455</td>\n",
       "      <td>1.000000</td>\n",
       "      <td>0.367725</td>\n",
       "      <td>0.120402</td>\n",
       "      <td>0.307107</td>\n",
       "    </tr>\n",
       "    <tr>\n",
       "      <th>Fuel</th>\n",
       "      <td>0.670477</td>\n",
       "      <td>0.192475</td>\n",
       "      <td>0.327591</td>\n",
       "      <td>0.457573</td>\n",
       "      <td>0.607430</td>\n",
       "      <td>0.367725</td>\n",
       "      <td>1.000000</td>\n",
       "      <td>0.035653</td>\n",
       "      <td>0.150028</td>\n",
       "    </tr>\n",
       "    <tr>\n",
       "      <th>Supermarket</th>\n",
       "      <td>0.055756</td>\n",
       "      <td>0.128714</td>\n",
       "      <td>0.121630</td>\n",
       "      <td>0.033376</td>\n",
       "      <td>0.093586</td>\n",
       "      <td>0.120402</td>\n",
       "      <td>0.035653</td>\n",
       "      <td>1.000000</td>\n",
       "      <td>0.173478</td>\n",
       "    </tr>\n",
       "    <tr>\n",
       "      <th>Choice</th>\n",
       "      <td>0.212633</td>\n",
       "      <td>0.252382</td>\n",
       "      <td>0.697252</td>\n",
       "      <td>0.133647</td>\n",
       "      <td>0.281108</td>\n",
       "      <td>0.307107</td>\n",
       "      <td>0.150028</td>\n",
       "      <td>0.173478</td>\n",
       "      <td>1.000000</td>\n",
       "    </tr>\n",
       "  </tbody>\n",
       "</table>\n",
       "</div>"
      ],
      "text/plain": [
       "                 Wellbeing score  BuildingHeights  Integration      Flow  \\\n",
       "Wellbeing score         1.000000         0.237022     0.395444  0.330256   \n",
       "BuildingHeights         0.237022         1.000000     0.382123  0.148397   \n",
       "Integration             0.395444         0.382123     1.000000  0.210076   \n",
       "Flow                    0.330256         0.148397     0.210076  1.000000   \n",
       "PTAL                    0.596362         0.378296     0.504597  0.354280   \n",
       "Casualty                0.401585         0.347461     0.429634  0.274211   \n",
       "Fuel                    0.670477         0.192475     0.327591  0.457573   \n",
       "Supermarket             0.055756         0.128714     0.121630  0.033376   \n",
       "Choice                  0.212633         0.252382     0.697252  0.133647   \n",
       "\n",
       "                     PTAL  Casualty      Fuel  Supermarket    Choice  \n",
       "Wellbeing score  0.596362  0.401585  0.670477     0.055756  0.212633  \n",
       "BuildingHeights  0.378296  0.347461  0.192475     0.128714  0.252382  \n",
       "Integration      0.504597  0.429634  0.327591     0.121630  0.697252  \n",
       "Flow             0.354280  0.274211  0.457573     0.033376  0.133647  \n",
       "PTAL             1.000000  0.557455  0.607430     0.093586  0.281108  \n",
       "Casualty         0.557455  1.000000  0.367725     0.120402  0.307107  \n",
       "Fuel             0.607430  0.367725  1.000000     0.035653  0.150028  \n",
       "Supermarket      0.093586  0.120402  0.035653     1.000000  0.173478  \n",
       "Choice           0.281108  0.307107  0.150028     0.173478  1.000000  "
      ]
     },
     "execution_count": 43,
     "metadata": {},
     "output_type": "execute_result"
    }
   ],
   "source": [
    "data1.corr()"
   ]
  },
  {
   "cell_type": "code",
   "execution_count": 48,
   "metadata": {
    "scrolled": false
   },
   "outputs": [
    {
     "data": {
      "text/plain": [
       "Text(0.5, 1.0, 'Heatmap of data correlation')"
      ]
     },
     "execution_count": 48,
     "metadata": {},
     "output_type": "execute_result"
    },
    {
     "data": {
      "image/png": "[encoded data removed]",
      "text/plain": [
       "<Figure size 1200x800 with 2 Axes>"
      ]
     },
     "metadata": {},
     "output_type": "display_data"
    }
   ],
   "source": [
    "import seaborn as sns\n",
    "plt.figure(figsize=(12,8))\n",
    "heatmap = sns.heatmap(data1.corr(), cmap='viridis')#这个data要改\n",
    "\n",
    "plt.title('Heatmap of data correlation')"
   ]
  },
  {
   "cell_type": "markdown",
   "metadata": {},
   "source": [
    "## DIVIDE DATA FOR ANALYSIS"
   ]
  },
  {
   "cell_type": "code",
   "execution_count": 49,
   "metadata": {},
   "outputs": [],
   "source": [
    "#the data should be doublicated in order to run the analysis independantly\n",
    "data2=data1.copy()\n",
    "data3=data1.copy()\n",
    "\n",
    "# Alternative you can divide the code into 2 files. DO NOT USE PCA data in KMEANS or the opposite"
   ]
  },
  {
   "cell_type": "markdown",
   "metadata": {},
   "source": [
    "## K-Means Clustering"
   ]
  },
  {
   "cell_type": "markdown",
   "metadata": {},
   "source": [
    "### A. Define the number of clusters (Elbow method)"
   ]
  },
  {
   "cell_type": "code",
   "execution_count": 50,
   "metadata": {},
   "outputs": [
    {
     "name": "stderr",
     "output_type": "stream",
     "text": [
      "C:\\Users\\15809\\anaconda3\\Lib\\site-packages\\sklearn\\cluster\\_kmeans.py:1412: FutureWarning: The default value of `n_init` will change from 10 to 'auto' in 1.4. Set the value of `n_init` explicitly to suppress the warning\n",
      "  super()._check_params_vs_input(X, default_n_init=10)\n",
      "C:\\Users\\15809\\anaconda3\\Lib\\site-packages\\sklearn\\cluster\\_kmeans.py:1412: FutureWarning: The default value of `n_init` will change from 10 to 'auto' in 1.4. Set the value of `n_init` explicitly to suppress the warning\n",
      "  super()._check_params_vs_input(X, default_n_init=10)\n",
      "C:\\Users\\15809\\anaconda3\\Lib\\site-packages\\sklearn\\cluster\\_kmeans.py:1412: FutureWarning: The default value of `n_init` will change from 10 to 'auto' in 1.4. Set the value of `n_init` explicitly to suppress the warning\n",
      "  super()._check_params_vs_input(X, default_n_init=10)\n",
      "C:\\Users\\15809\\anaconda3\\Lib\\site-packages\\sklearn\\cluster\\_kmeans.py:1412: FutureWarning: The default value of `n_init` will change from 10 to 'auto' in 1.4. Set the value of `n_init` explicitly to suppress the warning\n",
      "  super()._check_params_vs_input(X, default_n_init=10)\n",
      "C:\\Users\\15809\\anaconda3\\Lib\\site-packages\\sklearn\\cluster\\_kmeans.py:1412: FutureWarning: The default value of `n_init` will change from 10 to 'auto' in 1.4. Set the value of `n_init` explicitly to suppress the warning\n",
      "  super()._check_params_vs_input(X, default_n_init=10)\n",
      "C:\\Users\\15809\\anaconda3\\Lib\\site-packages\\sklearn\\cluster\\_kmeans.py:1412: FutureWarning: The default value of `n_init` will change from 10 to 'auto' in 1.4. Set the value of `n_init` explicitly to suppress the warning\n",
      "  super()._check_params_vs_input(X, default_n_init=10)\n",
      "C:\\Users\\15809\\anaconda3\\Lib\\site-packages\\sklearn\\cluster\\_kmeans.py:1412: FutureWarning: The default value of `n_init` will change from 10 to 'auto' in 1.4. Set the value of `n_init` explicitly to suppress the warning\n",
      "  super()._check_params_vs_input(X, default_n_init=10)\n",
      "C:\\Users\\15809\\anaconda3\\Lib\\site-packages\\sklearn\\cluster\\_kmeans.py:1412: FutureWarning: The default value of `n_init` will change from 10 to 'auto' in 1.4. Set the value of `n_init` explicitly to suppress the warning\n",
      "  super()._check_params_vs_input(X, default_n_init=10)\n",
      "C:\\Users\\15809\\anaconda3\\Lib\\site-packages\\sklearn\\cluster\\_kmeans.py:1412: FutureWarning: The default value of `n_init` will change from 10 to 'auto' in 1.4. Set the value of `n_init` explicitly to suppress the warning\n",
      "  super()._check_params_vs_input(X, default_n_init=10)\n",
      "C:\\Users\\15809\\anaconda3\\Lib\\site-packages\\sklearn\\cluster\\_kmeans.py:1412: FutureWarning: The default value of `n_init` will change from 10 to 'auto' in 1.4. Set the value of `n_init` explicitly to suppress the warning\n",
      "  super()._check_params_vs_input(X, default_n_init=10)\n",
      "C:\\Users\\15809\\anaconda3\\Lib\\site-packages\\sklearn\\cluster\\_kmeans.py:1412: FutureWarning: The default value of `n_init` will change from 10 to 'auto' in 1.4. Set the value of `n_init` explicitly to suppress the warning\n",
      "  super()._check_params_vs_input(X, default_n_init=10)\n",
      "C:\\Users\\15809\\anaconda3\\Lib\\site-packages\\sklearn\\cluster\\_kmeans.py:1412: FutureWarning: The default value of `n_init` will change from 10 to 'auto' in 1.4. Set the value of `n_init` explicitly to suppress the warning\n",
      "  super()._check_params_vs_input(X, default_n_init=10)\n",
      "C:\\Users\\15809\\anaconda3\\Lib\\site-packages\\sklearn\\cluster\\_kmeans.py:1412: FutureWarning: The default value of `n_init` will change from 10 to 'auto' in 1.4. Set the value of `n_init` explicitly to suppress the warning\n",
      "  super()._check_params_vs_input(X, default_n_init=10)\n",
      "C:\\Users\\15809\\anaconda3\\Lib\\site-packages\\sklearn\\cluster\\_kmeans.py:1412: FutureWarning: The default value of `n_init` will change from 10 to 'auto' in 1.4. Set the value of `n_init` explicitly to suppress the warning\n",
      "  super()._check_params_vs_input(X, default_n_init=10)\n",
      "C:\\Users\\15809\\anaconda3\\Lib\\site-packages\\sklearn\\cluster\\_kmeans.py:1412: FutureWarning: The default value of `n_init` will change from 10 to 'auto' in 1.4. Set the value of `n_init` explicitly to suppress the warning\n",
      "  super()._check_params_vs_input(X, default_n_init=10)\n",
      "C:\\Users\\15809\\anaconda3\\Lib\\site-packages\\sklearn\\cluster\\_kmeans.py:1412: FutureWarning: The default value of `n_init` will change from 10 to 'auto' in 1.4. Set the value of `n_init` explicitly to suppress the warning\n",
      "  super()._check_params_vs_input(X, default_n_init=10)\n",
      "C:\\Users\\15809\\anaconda3\\Lib\\site-packages\\sklearn\\cluster\\_kmeans.py:1412: FutureWarning: The default value of `n_init` will change from 10 to 'auto' in 1.4. Set the value of `n_init` explicitly to suppress the warning\n",
      "  super()._check_params_vs_input(X, default_n_init=10)\n",
      "C:\\Users\\15809\\anaconda3\\Lib\\site-packages\\sklearn\\cluster\\_kmeans.py:1412: FutureWarning: The default value of `n_init` will change from 10 to 'auto' in 1.4. Set the value of `n_init` explicitly to suppress the warning\n",
      "  super()._check_params_vs_input(X, default_n_init=10)\n",
      "C:\\Users\\15809\\anaconda3\\Lib\\site-packages\\sklearn\\cluster\\_kmeans.py:1412: FutureWarning: The default value of `n_init` will change from 10 to 'auto' in 1.4. Set the value of `n_init` explicitly to suppress the warning\n",
      "  super()._check_params_vs_input(X, default_n_init=10)\n",
      "C:\\Users\\15809\\anaconda3\\Lib\\site-packages\\sklearn\\cluster\\_kmeans.py:1412: FutureWarning: The default value of `n_init` will change from 10 to 'auto' in 1.4. Set the value of `n_init` explicitly to suppress the warning\n",
      "  super()._check_params_vs_input(X, default_n_init=10)\n"
     ]
    }
   ],
   "source": [
    "#Fit data and calculate sum of squares(wss)\n",
    "wss=[]\n",
    "from sklearn.cluster import KMeans\n",
    "\n",
    "for i in range (1,21):    \n",
    "    kmeans=KMeans(n_clusters=i,init=\"k-means++\")\n",
    "    kmeans.fit(data1)\n",
    "    wss.append(kmeans.inertia_)"
   ]
  },
  {
   "cell_type": "code",
   "execution_count": 51,
   "metadata": {
    "scrolled": false
   },
   "outputs": [
    {
     "data": {
      "image/png": "[encoded data removed]",
      "text/plain": [
       "<Figure size 1000x800 with 1 Axes>"
      ]
     },
     "metadata": {},
     "output_type": "display_data"
    }
   ],
   "source": [
    "#Visualisation of the k values in order to define the fittest\n",
    "plt.figure(figsize=(10,8))\n",
    "plt.plot(range(1,21),wss,marker=\"o\", color=\"#dc00ff\")\n",
    "plt.xlabel(\"Number of K value\")\n",
    "plt.ylabel(\"WSS\")\n",
    "plt.title(\"Sum of squares vs number of clusters\")\n",
    "#plt.savefig(\"Elbow.png\", dpi=300,transparent=True)\n",
    "plt.show()"
   ]
  },
  {
   "cell_type": "markdown",
   "metadata": {},
   "source": [
    "### B.Clustering the data"
   ]
  },
  {
   "cell_type": "code",
   "execution_count": 52,
   "metadata": {},
   "outputs": [],
   "source": [
    "#import library\n",
    "from sklearn.cluster import KMeans"
   ]
  },
  {
   "cell_type": "code",
   "execution_count": 53,
   "metadata": {},
   "outputs": [],
   "source": [
    "#pick number of clusters\n",
    "kmeans = KMeans(n_clusters=5)"
   ]
  },
  {
   "cell_type": "code",
   "execution_count": 54,
   "metadata": {},
   "outputs": [
    {
     "name": "stderr",
     "output_type": "stream",
     "text": [
      "C:\\Users\\15809\\anaconda3\\Lib\\site-packages\\sklearn\\cluster\\_kmeans.py:1412: FutureWarning: The default value of `n_init` will change from 10 to 'auto' in 1.4. Set the value of `n_init` explicitly to suppress the warning\n",
      "  super()._check_params_vs_input(X, default_n_init=10)\n"
     ]
    },
    {
     "data": {
      "text/html": [
       "<style>#sk-container-id-1 {color: black;}#sk-container-id-1 pre{padding: 0;}#sk-container-id-1 div.sk-toggleable {background-color: white;}#sk-container-id-1 label.sk-toggleable__label {cursor: pointer;display: block;width: 100%;margin-bottom: 0;padding: 0.3em;box-sizing: border-box;text-align: center;}#sk-container-id-1 label.sk-toggleable__label-arrow:before {content: \"▸\";float: left;margin-right: 0.25em;color: #696969;}#sk-container-id-1 label.sk-toggleable__label-arrow:hover:before {color: black;}#sk-container-id-1 div.sk-estimator:hover label.sk-toggleable__label-arrow:before {color: black;}#sk-container-id-1 div.sk-toggleable__content {max-height: 0;max-width: 0;overflow: hidden;text-align: left;background-color: #f0f8ff;}#sk-container-id-1 div.sk-toggleable__content pre {margin: 0.2em;color: black;border-radius: 0.25em;background-color: #f0f8ff;}#sk-container-id-1 input.sk-toggleable__control:checked~div.sk-toggleable__content {max-height: 200px;max-width: 100%;overflow: auto;}#sk-container-id-1 input.sk-toggleable__control:checked~label.sk-toggleable__label-arrow:before {content: \"▾\";}#sk-container-id-1 div.sk-estimator input.sk-toggleable__control:checked~label.sk-toggleable__label {background-color: #d4ebff;}#sk-container-id-1 div.sk-label input.sk-toggleable__control:checked~label.sk-toggleable__label {background-color: #d4ebff;}#sk-container-id-1 input.sk-hidden--visually {border: 0;clip: rect(1px 1px 1px 1px);clip: rect(1px, 1px, 1px, 1px);height: 1px;margin: -1px;overflow: hidden;padding: 0;position: absolute;width: 1px;}#sk-container-id-1 div.sk-estimator {font-family: monospace;background-color: #f0f8ff;border: 1px dotted black;border-radius: 0.25em;box-sizing: border-box;margin-bottom: 0.5em;}#sk-container-id-1 div.sk-estimator:hover {background-color: #d4ebff;}#sk-container-id-1 div.sk-parallel-item::after {content: \"\";width: 100%;border-bottom: 1px solid gray;flex-grow: 1;}#sk-container-id-1 div.sk-label:hover label.sk-toggleable__label {background-color: #d4ebff;}#sk-container-id-1 div.sk-serial::before {content: \"\";position: absolute;border-left: 1px solid gray;box-sizing: border-box;top: 0;bottom: 0;left: 50%;z-index: 0;}#sk-container-id-1 div.sk-serial {display: flex;flex-direction: column;align-items: center;background-color: white;padding-right: 0.2em;padding-left: 0.2em;position: relative;}#sk-container-id-1 div.sk-item {position: relative;z-index: 1;}#sk-container-id-1 div.sk-parallel {display: flex;align-items: stretch;justify-content: center;background-color: white;position: relative;}#sk-container-id-1 div.sk-item::before, #sk-container-id-1 div.sk-parallel-item::before {content: \"\";position: absolute;border-left: 1px solid gray;box-sizing: border-box;top: 0;bottom: 0;left: 50%;z-index: -1;}#sk-container-id-1 div.sk-parallel-item {display: flex;flex-direction: column;z-index: 1;position: relative;background-color: white;}#sk-container-id-1 div.sk-parallel-item:first-child::after {align-self: flex-end;width: 50%;}#sk-container-id-1 div.sk-parallel-item:last-child::after {align-self: flex-start;width: 50%;}#sk-container-id-1 div.sk-parallel-item:only-child::after {width: 0;}#sk-container-id-1 div.sk-dashed-wrapped {border: 1px dashed gray;margin: 0 0.4em 0.5em 0.4em;box-sizing: border-box;padding-bottom: 0.4em;background-color: white;}#sk-container-id-1 div.sk-label label {font-family: monospace;font-weight: bold;display: inline-block;line-height: 1.2em;}#sk-container-id-1 div.sk-label-container {text-align: center;}#sk-container-id-1 div.sk-container {/* jupyter's `normalize.less` sets `[hidden] { display: none; }` but bootstrap.min.css set `[hidden] { display: none !important; }` so we also need the `!important` here to be able to override the default hidden behavior on the sphinx rendered scikit-learn.org. See: https://github.com/scikit-learn/scikit-learn/issues/21755 */display: inline-block !important;position: relative;}#sk-container-id-1 div.sk-text-repr-fallback {display: none;}</style><div id=\"sk-container-id-1\" class=\"sk-top-container\"><div class=\"sk-text-repr-fallback\"><pre>KMeans(n_clusters=5)</pre><b>In a Jupyter environment, please rerun this cell to show the HTML representation or trust the notebook. <br />On GitHub, the HTML representation is unable to render, please try loading this page with nbviewer.org.</b></div><div class=\"sk-container\" hidden><div class=\"sk-item\"><div class=\"sk-estimator sk-toggleable\"><input class=\"sk-toggleable__control sk-hidden--visually\" id=\"sk-estimator-id-1\" type=\"checkbox\" checked><label for=\"sk-estimator-id-1\" class=\"sk-toggleable__label sk-toggleable__label-arrow\">KMeans</label><div class=\"sk-toggleable__content\"><pre>KMeans(n_clusters=5)</pre></div></div></div></div></div>"
      ],
      "text/plain": [
       "KMeans(n_clusters=5)"
      ]
     },
     "execution_count": 54,
     "metadata": {},
     "output_type": "execute_result"
    }
   ],
   "source": [
    "#fit the data\n",
    "kmeans.fit(data1)"
   ]
  },
  {
   "cell_type": "code",
   "execution_count": 55,
   "metadata": {},
   "outputs": [
    {
     "data": {
      "text/plain": [
       "array([[ 3.05131783e-01,  1.10061833e-01,  1.63415794e-01,\n",
       "         7.17093710e-02,  1.09349293e-01,  1.15381131e-01,\n",
       "         1.35074094e-01,  5.26537998e-01,  1.08645587e-01],\n",
       "       [ 1.37122975e-01,  4.05692746e-02,  3.93629602e-02,\n",
       "         3.16670821e-02,  1.69321063e-02,  3.15634498e-02,\n",
       "         5.43914895e-02,  1.21430643e-17,  1.18896265e-02],\n",
       "       [ 2.90170333e-01,  6.28987713e-02,  8.06518697e-02,\n",
       "         6.98205479e-02,  6.79772572e-02,  7.12425540e-02,\n",
       "         1.46662015e-01,  1.90819582e-16,  2.22555995e-02],\n",
       "       [ 3.06059024e-01,  1.12449532e-01,  2.92969747e-01,\n",
       "         7.25932514e-02,  1.39061121e-01,  1.36552900e-01,\n",
       "         1.35953199e-01, -5.20417043e-17,  1.71579622e-01],\n",
       "       [ 5.32706152e-01,  8.57909885e-02,  1.41630332e-01,\n",
       "         1.09714049e-01,  1.63655908e-01,  1.12002754e-01,\n",
       "         2.37224780e-01,  6.50477016e-04,  3.95904733e-02]])"
      ]
     },
     "execution_count": 55,
     "metadata": {},
     "output_type": "execute_result"
    }
   ],
   "source": [
    "#find the cluster centers\n",
    "kmeans.cluster_centers_"
   ]
  },
  {
   "cell_type": "code",
   "execution_count": 56,
   "metadata": {},
   "outputs": [
    {
     "data": {
      "text/plain": [
       "array([1, 1, 1, ..., 1, 1, 1])"
      ]
     },
     "execution_count": 56,
     "metadata": {},
     "output_type": "execute_result"
    }
   ],
   "source": [
    "#identify cluster labels\n",
    "kmeans.labels_"
   ]
  },
  {
   "cell_type": "code",
   "execution_count": 57,
   "metadata": {},
   "outputs": [
    {
     "data": {
      "text/plain": [
       "37650"
      ]
     },
     "execution_count": 57,
     "metadata": {},
     "output_type": "execute_result"
    }
   ],
   "source": [
    "#identify length of cluster labels\n",
    "len(kmeans.labels_)"
   ]
  },
  {
   "cell_type": "code",
   "execution_count": 58,
   "metadata": {},
   "outputs": [
    {
     "name": "stderr",
     "output_type": "stream",
     "text": [
      "C:\\Users\\15809\\anaconda3\\Lib\\site-packages\\sklearn\\cluster\\_kmeans.py:1412: FutureWarning: The default value of `n_init` will change from 10 to 'auto' in 1.4. Set the value of `n_init` explicitly to suppress the warning\n",
      "  super()._check_params_vs_input(X, default_n_init=10)\n"
     ]
    }
   ],
   "source": [
    "#Add cluster column in dataset\n",
    "data1['CLUSTERS'] = kmeans.fit_predict(data1)"
   ]
  },
  {
   "cell_type": "code",
   "execution_count": 59,
   "metadata": {
    "scrolled": false
   },
   "outputs": [
    {
     "data": {
      "text/html": [
       "<div>\n",
       "<style scoped>\n",
       "    .dataframe tbody tr th:only-of-type {\n",
       "        vertical-align: middle;\n",
       "    }\n",
       "\n",
       "    .dataframe tbody tr th {\n",
       "        vertical-align: top;\n",
       "    }\n",
       "\n",
       "    .dataframe thead th {\n",
       "        text-align: right;\n",
       "    }\n",
       "</style>\n",
       "<table border=\"1\" class=\"dataframe\">\n",
       "  <thead>\n",
       "    <tr style=\"text-align: right;\">\n",
       "      <th></th>\n",
       "      <th>Wellbeing score</th>\n",
       "      <th>BuildingHeights</th>\n",
       "      <th>Integration</th>\n",
       "      <th>Flow</th>\n",
       "      <th>PTAL</th>\n",
       "      <th>Casualty</th>\n",
       "      <th>Fuel</th>\n",
       "      <th>Supermarket</th>\n",
       "      <th>Choice</th>\n",
       "      <th>CLUSTERS</th>\n",
       "    </tr>\n",
       "  </thead>\n",
       "  <tbody>\n",
       "    <tr>\n",
       "      <th>0</th>\n",
       "      <td>0.134691</td>\n",
       "      <td>0.388653</td>\n",
       "      <td>0.000000</td>\n",
       "      <td>0.016541</td>\n",
       "      <td>0.022895</td>\n",
       "      <td>0.065243</td>\n",
       "      <td>0.056563</td>\n",
       "      <td>0.0</td>\n",
       "      <td>0.0</td>\n",
       "      <td>0</td>\n",
       "    </tr>\n",
       "    <tr>\n",
       "      <th>1</th>\n",
       "      <td>0.134691</td>\n",
       "      <td>0.388653</td>\n",
       "      <td>0.000000</td>\n",
       "      <td>0.016541</td>\n",
       "      <td>0.022895</td>\n",
       "      <td>0.065243</td>\n",
       "      <td>0.056563</td>\n",
       "      <td>0.0</td>\n",
       "      <td>0.0</td>\n",
       "      <td>0</td>\n",
       "    </tr>\n",
       "    <tr>\n",
       "      <th>2</th>\n",
       "      <td>0.134691</td>\n",
       "      <td>0.388653</td>\n",
       "      <td>0.000000</td>\n",
       "      <td>0.016541</td>\n",
       "      <td>0.022895</td>\n",
       "      <td>0.065243</td>\n",
       "      <td>0.056563</td>\n",
       "      <td>0.0</td>\n",
       "      <td>0.0</td>\n",
       "      <td>0</td>\n",
       "    </tr>\n",
       "    <tr>\n",
       "      <th>3</th>\n",
       "      <td>0.134691</td>\n",
       "      <td>0.388653</td>\n",
       "      <td>0.001579</td>\n",
       "      <td>0.016909</td>\n",
       "      <td>0.022883</td>\n",
       "      <td>0.064801</td>\n",
       "      <td>0.056941</td>\n",
       "      <td>0.0</td>\n",
       "      <td>0.0</td>\n",
       "      <td>0</td>\n",
       "    </tr>\n",
       "    <tr>\n",
       "      <th>4</th>\n",
       "      <td>0.134691</td>\n",
       "      <td>0.010464</td>\n",
       "      <td>0.000000</td>\n",
       "      <td>0.063591</td>\n",
       "      <td>0.021247</td>\n",
       "      <td>0.016348</td>\n",
       "      <td>0.099367</td>\n",
       "      <td>0.0</td>\n",
       "      <td>0.0</td>\n",
       "      <td>0</td>\n",
       "    </tr>\n",
       "  </tbody>\n",
       "</table>\n",
       "</div>"
      ],
      "text/plain": [
       "   Wellbeing score  BuildingHeights  Integration      Flow      PTAL  \\\n",
       "0         0.134691         0.388653     0.000000  0.016541  0.022895   \n",
       "1         0.134691         0.388653     0.000000  0.016541  0.022895   \n",
       "2         0.134691         0.388653     0.000000  0.016541  0.022895   \n",
       "3         0.134691         0.388653     0.001579  0.016909  0.022883   \n",
       "4         0.134691         0.010464     0.000000  0.063591  0.021247   \n",
       "\n",
       "   Casualty      Fuel  Supermarket  Choice  CLUSTERS  \n",
       "0  0.065243  0.056563          0.0     0.0         0  \n",
       "1  0.065243  0.056563          0.0     0.0         0  \n",
       "2  0.065243  0.056563          0.0     0.0         0  \n",
       "3  0.064801  0.056941          0.0     0.0         0  \n",
       "4  0.016348  0.099367          0.0     0.0         0  "
      ]
     },
     "execution_count": 59,
     "metadata": {},
     "output_type": "execute_result"
    }
   ],
   "source": [
    "data1.head()"
   ]
  },
  {
   "cell_type": "markdown",
   "metadata": {},
   "source": [
    "### C.Visualise your Kmeans result"
   ]
  },
  {
   "cell_type": "code",
   "execution_count": 63,
   "metadata": {
    "scrolled": false
   },
   "outputs": [
    {
     "data": {
      "image/png": "[encoded data removed]",
      "text/plain": [
       "<Figure size 640x480 with 1 Axes>"
      ]
     },
     "metadata": {},
     "output_type": "display_data"
    }
   ],
   "source": [
    "#Scatterplot of clustered data\n",
    "sns.scatterplot(x=data1['Supermarket'], y=data1['Choice'], hue= kmeans.labels_, palette='rainbow')\n",
    "plt.title('K-means Clustering')\n",
    "plt.legend(loc=0,bbox_to_anchor=(1.2,0.5),title=\"Clusters\")\n",
    "plt.show()"
   ]
  },
  {
   "cell_type": "markdown",
   "metadata": {},
   "source": [
    "## Principal Component Analysis"
   ]
  },
  {
   "cell_type": "markdown",
   "metadata": {},
   "source": [
    "### A. Preprocessing"
   ]
  },
  {
   "cell_type": "code",
   "execution_count": 64,
   "metadata": {},
   "outputs": [],
   "source": [
    "from sklearn.preprocessing import StandardScaler"
   ]
  },
  {
   "cell_type": "code",
   "execution_count": 65,
   "metadata": {},
   "outputs": [
    {
     "data": {
      "text/html": [
       "<style>#sk-container-id-2 {color: black;}#sk-container-id-2 pre{padding: 0;}#sk-container-id-2 div.sk-toggleable {background-color: white;}#sk-container-id-2 label.sk-toggleable__label {cursor: pointer;display: block;width: 100%;margin-bottom: 0;padding: 0.3em;box-sizing: border-box;text-align: center;}#sk-container-id-2 label.sk-toggleable__label-arrow:before {content: \"▸\";float: left;margin-right: 0.25em;color: #696969;}#sk-container-id-2 label.sk-toggleable__label-arrow:hover:before {color: black;}#sk-container-id-2 div.sk-estimator:hover label.sk-toggleable__label-arrow:before {color: black;}#sk-container-id-2 div.sk-toggleable__content {max-height: 0;max-width: 0;overflow: hidden;text-align: left;background-color: #f0f8ff;}#sk-container-id-2 div.sk-toggleable__content pre {margin: 0.2em;color: black;border-radius: 0.25em;background-color: #f0f8ff;}#sk-container-id-2 input.sk-toggleable__control:checked~div.sk-toggleable__content {max-height: 200px;max-width: 100%;overflow: auto;}#sk-container-id-2 input.sk-toggleable__control:checked~label.sk-toggleable__label-arrow:before {content: \"▾\";}#sk-container-id-2 div.sk-estimator input.sk-toggleable__control:checked~label.sk-toggleable__label {background-color: #d4ebff;}#sk-container-id-2 div.sk-label input.sk-toggleable__control:checked~label.sk-toggleable__label {background-color: #d4ebff;}#sk-container-id-2 input.sk-hidden--visually {border: 0;clip: rect(1px 1px 1px 1px);clip: rect(1px, 1px, 1px, 1px);height: 1px;margin: -1px;overflow: hidden;padding: 0;position: absolute;width: 1px;}#sk-container-id-2 div.sk-estimator {font-family: monospace;background-color: #f0f8ff;border: 1px dotted black;border-radius: 0.25em;box-sizing: border-box;margin-bottom: 0.5em;}#sk-container-id-2 div.sk-estimator:hover {background-color: #d4ebff;}#sk-container-id-2 div.sk-parallel-item::after {content: \"\";width: 100%;border-bottom: 1px solid gray;flex-grow: 1;}#sk-container-id-2 div.sk-label:hover label.sk-toggleable__label {background-color: #d4ebff;}#sk-container-id-2 div.sk-serial::before {content: \"\";position: absolute;border-left: 1px solid gray;box-sizing: border-box;top: 0;bottom: 0;left: 50%;z-index: 0;}#sk-container-id-2 div.sk-serial {display: flex;flex-direction: column;align-items: center;background-color: white;padding-right: 0.2em;padding-left: 0.2em;position: relative;}#sk-container-id-2 div.sk-item {position: relative;z-index: 1;}#sk-container-id-2 div.sk-parallel {display: flex;align-items: stretch;justify-content: center;background-color: white;position: relative;}#sk-container-id-2 div.sk-item::before, #sk-container-id-2 div.sk-parallel-item::before {content: \"\";position: absolute;border-left: 1px solid gray;box-sizing: border-box;top: 0;bottom: 0;left: 50%;z-index: -1;}#sk-container-id-2 div.sk-parallel-item {display: flex;flex-direction: column;z-index: 1;position: relative;background-color: white;}#sk-container-id-2 div.sk-parallel-item:first-child::after {align-self: flex-end;width: 50%;}#sk-container-id-2 div.sk-parallel-item:last-child::after {align-self: flex-start;width: 50%;}#sk-container-id-2 div.sk-parallel-item:only-child::after {width: 0;}#sk-container-id-2 div.sk-dashed-wrapped {border: 1px dashed gray;margin: 0 0.4em 0.5em 0.4em;box-sizing: border-box;padding-bottom: 0.4em;background-color: white;}#sk-container-id-2 div.sk-label label {font-family: monospace;font-weight: bold;display: inline-block;line-height: 1.2em;}#sk-container-id-2 div.sk-label-container {text-align: center;}#sk-container-id-2 div.sk-container {/* jupyter's `normalize.less` sets `[hidden] { display: none; }` but bootstrap.min.css set `[hidden] { display: none !important; }` so we also need the `!important` here to be able to override the default hidden behavior on the sphinx rendered scikit-learn.org. See: https://github.com/scikit-learn/scikit-learn/issues/21755 */display: inline-block !important;position: relative;}#sk-container-id-2 div.sk-text-repr-fallback {display: none;}</style><div id=\"sk-container-id-2\" class=\"sk-top-container\"><div class=\"sk-text-repr-fallback\"><pre>StandardScaler()</pre><b>In a Jupyter environment, please rerun this cell to show the HTML representation or trust the notebook. <br />On GitHub, the HTML representation is unable to render, please try loading this page with nbviewer.org.</b></div><div class=\"sk-container\" hidden><div class=\"sk-item\"><div class=\"sk-estimator sk-toggleable\"><input class=\"sk-toggleable__control sk-hidden--visually\" id=\"sk-estimator-id-2\" type=\"checkbox\" checked><label for=\"sk-estimator-id-2\" class=\"sk-toggleable__label sk-toggleable__label-arrow\">StandardScaler</label><div class=\"sk-toggleable__content\"><pre>StandardScaler()</pre></div></div></div></div></div>"
      ],
      "text/plain": [
       "StandardScaler()"
      ]
     },
     "execution_count": 65,
     "metadata": {},
     "output_type": "execute_result"
    }
   ],
   "source": [
    "scaler = StandardScaler()\n",
    "scaler.fit(data2)"
   ]
  },
  {
   "cell_type": "code",
   "execution_count": 66,
   "metadata": {},
   "outputs": [],
   "source": [
    "scaled_data = scaler.transform(data2)"
   ]
  },
  {
   "cell_type": "markdown",
   "metadata": {},
   "source": [
    "### B. Running PCA"
   ]
  },
  {
   "cell_type": "code",
   "execution_count": 67,
   "metadata": {},
   "outputs": [],
   "source": [
    "from sklearn.decomposition import PCA"
   ]
  },
  {
   "cell_type": "code",
   "execution_count": 68,
   "metadata": {},
   "outputs": [],
   "source": [
    "pca = PCA(n_components=3)"
   ]
  },
  {
   "cell_type": "code",
   "execution_count": 69,
   "metadata": {},
   "outputs": [
    {
     "data": {
      "text/html": [
       "<style>#sk-container-id-3 {color: black;}#sk-container-id-3 pre{padding: 0;}#sk-container-id-3 div.sk-toggleable {background-color: white;}#sk-container-id-3 label.sk-toggleable__label {cursor: pointer;display: block;width: 100%;margin-bottom: 0;padding: 0.3em;box-sizing: border-box;text-align: center;}#sk-container-id-3 label.sk-toggleable__label-arrow:before {content: \"▸\";float: left;margin-right: 0.25em;color: #696969;}#sk-container-id-3 label.sk-toggleable__label-arrow:hover:before {color: black;}#sk-container-id-3 div.sk-estimator:hover label.sk-toggleable__label-arrow:before {color: black;}#sk-container-id-3 div.sk-toggleable__content {max-height: 0;max-width: 0;overflow: hidden;text-align: left;background-color: #f0f8ff;}#sk-container-id-3 div.sk-toggleable__content pre {margin: 0.2em;color: black;border-radius: 0.25em;background-color: #f0f8ff;}#sk-container-id-3 input.sk-toggleable__control:checked~div.sk-toggleable__content {max-height: 200px;max-width: 100%;overflow: auto;}#sk-container-id-3 input.sk-toggleable__control:checked~label.sk-toggleable__label-arrow:before {content: \"▾\";}#sk-container-id-3 div.sk-estimator input.sk-toggleable__control:checked~label.sk-toggleable__label {background-color: #d4ebff;}#sk-container-id-3 div.sk-label input.sk-toggleable__control:checked~label.sk-toggleable__label {background-color: #d4ebff;}#sk-container-id-3 input.sk-hidden--visually {border: 0;clip: rect(1px 1px 1px 1px);clip: rect(1px, 1px, 1px, 1px);height: 1px;margin: -1px;overflow: hidden;padding: 0;position: absolute;width: 1px;}#sk-container-id-3 div.sk-estimator {font-family: monospace;background-color: #f0f8ff;border: 1px dotted black;border-radius: 0.25em;box-sizing: border-box;margin-bottom: 0.5em;}#sk-container-id-3 div.sk-estimator:hover {background-color: #d4ebff;}#sk-container-id-3 div.sk-parallel-item::after {content: \"\";width: 100%;border-bottom: 1px solid gray;flex-grow: 1;}#sk-container-id-3 div.sk-label:hover label.sk-toggleable__label {background-color: #d4ebff;}#sk-container-id-3 div.sk-serial::before {content: \"\";position: absolute;border-left: 1px solid gray;box-sizing: border-box;top: 0;bottom: 0;left: 50%;z-index: 0;}#sk-container-id-3 div.sk-serial {display: flex;flex-direction: column;align-items: center;background-color: white;padding-right: 0.2em;padding-left: 0.2em;position: relative;}#sk-container-id-3 div.sk-item {position: relative;z-index: 1;}#sk-container-id-3 div.sk-parallel {display: flex;align-items: stretch;justify-content: center;background-color: white;position: relative;}#sk-container-id-3 div.sk-item::before, #sk-container-id-3 div.sk-parallel-item::before {content: \"\";position: absolute;border-left: 1px solid gray;box-sizing: border-box;top: 0;bottom: 0;left: 50%;z-index: -1;}#sk-container-id-3 div.sk-parallel-item {display: flex;flex-direction: column;z-index: 1;position: relative;background-color: white;}#sk-container-id-3 div.sk-parallel-item:first-child::after {align-self: flex-end;width: 50%;}#sk-container-id-3 div.sk-parallel-item:last-child::after {align-self: flex-start;width: 50%;}#sk-container-id-3 div.sk-parallel-item:only-child::after {width: 0;}#sk-container-id-3 div.sk-dashed-wrapped {border: 1px dashed gray;margin: 0 0.4em 0.5em 0.4em;box-sizing: border-box;padding-bottom: 0.4em;background-color: white;}#sk-container-id-3 div.sk-label label {font-family: monospace;font-weight: bold;display: inline-block;line-height: 1.2em;}#sk-container-id-3 div.sk-label-container {text-align: center;}#sk-container-id-3 div.sk-container {/* jupyter's `normalize.less` sets `[hidden] { display: none; }` but bootstrap.min.css set `[hidden] { display: none !important; }` so we also need the `!important` here to be able to override the default hidden behavior on the sphinx rendered scikit-learn.org. See: https://github.com/scikit-learn/scikit-learn/issues/21755 */display: inline-block !important;position: relative;}#sk-container-id-3 div.sk-text-repr-fallback {display: none;}</style><div id=\"sk-container-id-3\" class=\"sk-top-container\"><div class=\"sk-text-repr-fallback\"><pre>PCA(n_components=3)</pre><b>In a Jupyter environment, please rerun this cell to show the HTML representation or trust the notebook. <br />On GitHub, the HTML representation is unable to render, please try loading this page with nbviewer.org.</b></div><div class=\"sk-container\" hidden><div class=\"sk-item\"><div class=\"sk-estimator sk-toggleable\"><input class=\"sk-toggleable__control sk-hidden--visually\" id=\"sk-estimator-id-3\" type=\"checkbox\" checked><label for=\"sk-estimator-id-3\" class=\"sk-toggleable__label sk-toggleable__label-arrow\">PCA</label><div class=\"sk-toggleable__content\"><pre>PCA(n_components=3)</pre></div></div></div></div></div>"
      ],
      "text/plain": [
       "PCA(n_components=3)"
      ]
     },
     "execution_count": 69,
     "metadata": {},
     "output_type": "execute_result"
    }
   ],
   "source": [
    "pca.fit(scaled_data)"
   ]
  },
  {
   "cell_type": "code",
   "execution_count": 70,
   "metadata": {},
   "outputs": [],
   "source": [
    "x_pca = pca.transform(scaled_data)"
   ]
  },
  {
   "cell_type": "code",
   "execution_count": 71,
   "metadata": {},
   "outputs": [
    {
     "data": {
      "text/plain": [
       "(37650, 9)"
      ]
     },
     "execution_count": 71,
     "metadata": {},
     "output_type": "execute_result"
    }
   ],
   "source": [
    "scaled_data.shape #15 dimensions"
   ]
  },
  {
   "cell_type": "code",
   "execution_count": 72,
   "metadata": {},
   "outputs": [
    {
     "data": {
      "text/plain": [
       "(37650, 3)"
      ]
     },
     "execution_count": 72,
     "metadata": {},
     "output_type": "execute_result"
    }
   ],
   "source": [
    "x_pca.shape #3 dimensions"
   ]
  },
  {
   "cell_type": "markdown",
   "metadata": {},
   "source": [
    "### C.Interpretation of results"
   ]
  },
  {
   "cell_type": "code",
   "execution_count": 73,
   "metadata": {},
   "outputs": [
    {
     "data": {
      "text/plain": [
       "array([[ 0.38738868,  0.27338719,  0.38537732,  0.26965152,  0.4314873 ,\n",
       "         0.36467565,  0.37792483,  0.09787898,  0.28702742],\n",
       "       [-0.29479123,  0.24914529,  0.38255314, -0.33487974, -0.13651694,\n",
       "         0.04811126, -0.41388843,  0.33623015,  0.5359361 ],\n",
       "       [ 0.01980245,  0.02960036, -0.27300512,  0.12468335,  0.008652  ,\n",
       "         0.02332279,  0.06906811,  0.91648999, -0.25161643]])"
      ]
     },
     "execution_count": 73,
     "metadata": {},
     "output_type": "execute_result"
    }
   ],
   "source": [
    "pca.components_"
   ]
  },
  {
   "cell_type": "code",
   "execution_count": 74,
   "metadata": {},
   "outputs": [],
   "source": [
    "df_comp = pd.DataFrame(pca.components_,columns=data2.columns)"
   ]
  },
  {
   "cell_type": "code",
   "execution_count": 75,
   "metadata": {
    "scrolled": false
   },
   "outputs": [
    {
     "data": {
      "image/png": "[encoded data removed]",
      "text/plain": [
       "<Figure size 1200x600 with 2 Axes>"
      ]
     },
     "metadata": {},
     "output_type": "display_data"
    }
   ],
   "source": [
    "plt.figure(figsize=(12,6))\n",
    "\n",
    "sns.heatmap(df_comp,cmap='vlag')\n",
    "plt.show()"
   ]
  },
  {
   "cell_type": "code",
   "execution_count": 76,
   "metadata": {},
   "outputs": [],
   "source": [
    "cmap = sns.diverging_palette(180, 295, s=100, l=50,\n",
    "                                  n=10, center= \"dark\", as_cmap = True)\n",
    "\n",
    "#Documentation: https://seaborn.pydata.org/generated/seaborn.diverging_palette.html"
   ]
  },
  {
   "cell_type": "code",
   "execution_count": 77,
   "metadata": {
    "scrolled": false
   },
   "outputs": [
    {
     "data": {
      "text/plain": [
       "<Axes: >"
      ]
     },
     "execution_count": 77,
     "metadata": {},
     "output_type": "execute_result"
    },
    {
     "data": {
      "image/png": "[encoded data removed]",
      "text/plain": [
       "<Figure size 1600x1200 with 2 Axes>"
      ]
     },
     "metadata": {},
     "output_type": "display_data"
    }
   ],
   "source": [
    "plt.figure(figsize=(16,12))\n",
    "sns.heatmap(df_comp,cmap= cmap, annot=True,fmt = \".1f\")"
   ]
  },
  {
   "cell_type": "code",
   "execution_count": 78,
   "metadata": {},
   "outputs": [
    {
     "data": {
      "text/html": [
       "<div>\n",
       "<style scoped>\n",
       "    .dataframe tbody tr th:only-of-type {\n",
       "        vertical-align: middle;\n",
       "    }\n",
       "\n",
       "    .dataframe tbody tr th {\n",
       "        vertical-align: top;\n",
       "    }\n",
       "\n",
       "    .dataframe thead th {\n",
       "        text-align: right;\n",
       "    }\n",
       "</style>\n",
       "<table border=\"1\" class=\"dataframe\">\n",
       "  <thead>\n",
       "    <tr style=\"text-align: right;\">\n",
       "      <th></th>\n",
       "      <th>Wellbeing score</th>\n",
       "      <th>BuildingHeights</th>\n",
       "      <th>Integration</th>\n",
       "      <th>Flow</th>\n",
       "      <th>PTAL</th>\n",
       "      <th>Casualty</th>\n",
       "      <th>Fuel</th>\n",
       "      <th>Supermarket</th>\n",
       "      <th>Choice</th>\n",
       "    </tr>\n",
       "  </thead>\n",
       "  <tbody>\n",
       "    <tr>\n",
       "      <th>0</th>\n",
       "      <td>0.387389</td>\n",
       "      <td>0.273387</td>\n",
       "      <td>0.385377</td>\n",
       "      <td>0.269652</td>\n",
       "      <td>0.431487</td>\n",
       "      <td>0.364676</td>\n",
       "      <td>0.377925</td>\n",
       "      <td>0.097879</td>\n",
       "      <td>0.287027</td>\n",
       "    </tr>\n",
       "    <tr>\n",
       "      <th>1</th>\n",
       "      <td>-0.294791</td>\n",
       "      <td>0.249145</td>\n",
       "      <td>0.382553</td>\n",
       "      <td>-0.334880</td>\n",
       "      <td>-0.136517</td>\n",
       "      <td>0.048111</td>\n",
       "      <td>-0.413888</td>\n",
       "      <td>0.336230</td>\n",
       "      <td>0.535936</td>\n",
       "    </tr>\n",
       "    <tr>\n",
       "      <th>2</th>\n",
       "      <td>0.019802</td>\n",
       "      <td>0.029600</td>\n",
       "      <td>-0.273005</td>\n",
       "      <td>0.124683</td>\n",
       "      <td>0.008652</td>\n",
       "      <td>0.023323</td>\n",
       "      <td>0.069068</td>\n",
       "      <td>0.916490</td>\n",
       "      <td>-0.251616</td>\n",
       "    </tr>\n",
       "  </tbody>\n",
       "</table>\n",
       "</div>"
      ],
      "text/plain": [
       "   Wellbeing score  BuildingHeights  Integration      Flow      PTAL  \\\n",
       "0         0.387389         0.273387     0.385377  0.269652  0.431487   \n",
       "1        -0.294791         0.249145     0.382553 -0.334880 -0.136517   \n",
       "2         0.019802         0.029600    -0.273005  0.124683  0.008652   \n",
       "\n",
       "   Casualty      Fuel  Supermarket    Choice  \n",
       "0  0.364676  0.377925     0.097879  0.287027  \n",
       "1  0.048111 -0.413888     0.336230  0.535936  \n",
       "2  0.023323  0.069068     0.916490 -0.251616  "
      ]
     },
     "execution_count": 78,
     "metadata": {},
     "output_type": "execute_result"
    }
   ],
   "source": [
    "df_comp.head()"
   ]
  },
  {
   "cell_type": "code",
   "execution_count": 79,
   "metadata": {},
   "outputs": [],
   "source": [
    "df=pd.DataFrame(x_pca, columns = ['0','1','2'])"
   ]
  },
  {
   "cell_type": "code",
   "execution_count": 80,
   "metadata": {},
   "outputs": [
    {
     "data": {
      "text/html": [
       "<div>\n",
       "<style scoped>\n",
       "    .dataframe tbody tr th:only-of-type {\n",
       "        vertical-align: middle;\n",
       "    }\n",
       "\n",
       "    .dataframe tbody tr th {\n",
       "        vertical-align: top;\n",
       "    }\n",
       "\n",
       "    .dataframe thead th {\n",
       "        text-align: right;\n",
       "    }\n",
       "</style>\n",
       "<table border=\"1\" class=\"dataframe\">\n",
       "  <thead>\n",
       "    <tr style=\"text-align: right;\">\n",
       "      <th></th>\n",
       "      <th>0</th>\n",
       "      <th>1</th>\n",
       "      <th>2</th>\n",
       "    </tr>\n",
       "  </thead>\n",
       "  <tbody>\n",
       "    <tr>\n",
       "      <th>0</th>\n",
       "      <td>0.107729</td>\n",
       "      <td>1.572435</td>\n",
       "      <td>0.273597</td>\n",
       "    </tr>\n",
       "    <tr>\n",
       "      <th>1</th>\n",
       "      <td>0.107729</td>\n",
       "      <td>1.572435</td>\n",
       "      <td>0.273597</td>\n",
       "    </tr>\n",
       "    <tr>\n",
       "      <th>2</th>\n",
       "      <td>0.107729</td>\n",
       "      <td>1.572435</td>\n",
       "      <td>0.273597</td>\n",
       "    </tr>\n",
       "    <tr>\n",
       "      <th>3</th>\n",
       "      <td>0.114871</td>\n",
       "      <td>1.574886</td>\n",
       "      <td>0.269831</td>\n",
       "    </tr>\n",
       "    <tr>\n",
       "      <th>4</th>\n",
       "      <td>-1.624440</td>\n",
       "      <td>-0.576483</td>\n",
       "      <td>0.181067</td>\n",
       "    </tr>\n",
       "  </tbody>\n",
       "</table>\n",
       "</div>"
      ],
      "text/plain": [
       "          0         1         2\n",
       "0  0.107729  1.572435  0.273597\n",
       "1  0.107729  1.572435  0.273597\n",
       "2  0.107729  1.572435  0.273597\n",
       "3  0.114871  1.574886  0.269831\n",
       "4 -1.624440 -0.576483  0.181067"
      ]
     },
     "execution_count": 80,
     "metadata": {},
     "output_type": "execute_result"
    }
   ],
   "source": [
    "df.head()"
   ]
  },
  {
   "cell_type": "code",
   "execution_count": 81,
   "metadata": {},
   "outputs": [
    {
     "data": {
      "text/html": [
       "<div>\n",
       "<style scoped>\n",
       "    .dataframe tbody tr th:only-of-type {\n",
       "        vertical-align: middle;\n",
       "    }\n",
       "\n",
       "    .dataframe tbody tr th {\n",
       "        vertical-align: top;\n",
       "    }\n",
       "\n",
       "    .dataframe thead th {\n",
       "        text-align: right;\n",
       "    }\n",
       "</style>\n",
       "<table border=\"1\" class=\"dataframe\">\n",
       "  <thead>\n",
       "    <tr style=\"text-align: right;\">\n",
       "      <th></th>\n",
       "      <th>id</th>\n",
       "    </tr>\n",
       "  </thead>\n",
       "  <tbody>\n",
       "    <tr>\n",
       "      <th>0</th>\n",
       "      <td>1</td>\n",
       "    </tr>\n",
       "    <tr>\n",
       "      <th>1</th>\n",
       "      <td>2</td>\n",
       "    </tr>\n",
       "    <tr>\n",
       "      <th>2</th>\n",
       "      <td>3</td>\n",
       "    </tr>\n",
       "    <tr>\n",
       "      <th>3</th>\n",
       "      <td>4</td>\n",
       "    </tr>\n",
       "    <tr>\n",
       "      <th>4</th>\n",
       "      <td>5</td>\n",
       "    </tr>\n",
       "  </tbody>\n",
       "</table>\n",
       "</div>"
      ],
      "text/plain": [
       "   id\n",
       "0   1\n",
       "1   2\n",
       "2   3\n",
       "3   4\n",
       "4   5"
      ]
     },
     "execution_count": 81,
     "metadata": {},
     "output_type": "execute_result"
    }
   ],
   "source": [
    "datalocation.head()"
   ]
  },
  {
   "cell_type": "code",
   "execution_count": 82,
   "metadata": {},
   "outputs": [],
   "source": [
    "df_prefinal=pd.concat([df,datalocation],axis=1)"
   ]
  },
  {
   "cell_type": "code",
   "execution_count": 83,
   "metadata": {},
   "outputs": [
    {
     "data": {
      "text/html": [
       "<div>\n",
       "<style scoped>\n",
       "    .dataframe tbody tr th:only-of-type {\n",
       "        vertical-align: middle;\n",
       "    }\n",
       "\n",
       "    .dataframe tbody tr th {\n",
       "        vertical-align: top;\n",
       "    }\n",
       "\n",
       "    .dataframe thead th {\n",
       "        text-align: right;\n",
       "    }\n",
       "</style>\n",
       "<table border=\"1\" class=\"dataframe\">\n",
       "  <thead>\n",
       "    <tr style=\"text-align: right;\">\n",
       "      <th></th>\n",
       "      <th>0</th>\n",
       "      <th>1</th>\n",
       "      <th>2</th>\n",
       "      <th>id</th>\n",
       "    </tr>\n",
       "  </thead>\n",
       "  <tbody>\n",
       "    <tr>\n",
       "      <th>0</th>\n",
       "      <td>0.107729</td>\n",
       "      <td>1.572435</td>\n",
       "      <td>0.273597</td>\n",
       "      <td>1</td>\n",
       "    </tr>\n",
       "    <tr>\n",
       "      <th>1</th>\n",
       "      <td>0.107729</td>\n",
       "      <td>1.572435</td>\n",
       "      <td>0.273597</td>\n",
       "      <td>2</td>\n",
       "    </tr>\n",
       "    <tr>\n",
       "      <th>2</th>\n",
       "      <td>0.107729</td>\n",
       "      <td>1.572435</td>\n",
       "      <td>0.273597</td>\n",
       "      <td>3</td>\n",
       "    </tr>\n",
       "    <tr>\n",
       "      <th>3</th>\n",
       "      <td>0.114871</td>\n",
       "      <td>1.574886</td>\n",
       "      <td>0.269831</td>\n",
       "      <td>4</td>\n",
       "    </tr>\n",
       "    <tr>\n",
       "      <th>4</th>\n",
       "      <td>-1.624440</td>\n",
       "      <td>-0.576483</td>\n",
       "      <td>0.181067</td>\n",
       "      <td>5</td>\n",
       "    </tr>\n",
       "  </tbody>\n",
       "</table>\n",
       "</div>"
      ],
      "text/plain": [
       "          0         1         2  id\n",
       "0  0.107729  1.572435  0.273597   1\n",
       "1  0.107729  1.572435  0.273597   2\n",
       "2  0.107729  1.572435  0.273597   3\n",
       "3  0.114871  1.574886  0.269831   4\n",
       "4 -1.624440 -0.576483  0.181067   5"
      ]
     },
     "execution_count": 83,
     "metadata": {},
     "output_type": "execute_result"
    }
   ],
   "source": [
    "df_prefinal.head()"
   ]
  },
  {
   "cell_type": "code",
   "execution_count": 84,
   "metadata": {},
   "outputs": [],
   "source": [
    "df_final=pd.concat([df_prefinal, data1],axis=1)"
   ]
  },
  {
   "cell_type": "code",
   "execution_count": 85,
   "metadata": {},
   "outputs": [
    {
     "data": {
      "text/html": [
       "<div>\n",
       "<style scoped>\n",
       "    .dataframe tbody tr th:only-of-type {\n",
       "        vertical-align: middle;\n",
       "    }\n",
       "\n",
       "    .dataframe tbody tr th {\n",
       "        vertical-align: top;\n",
       "    }\n",
       "\n",
       "    .dataframe thead th {\n",
       "        text-align: right;\n",
       "    }\n",
       "</style>\n",
       "<table border=\"1\" class=\"dataframe\">\n",
       "  <thead>\n",
       "    <tr style=\"text-align: right;\">\n",
       "      <th></th>\n",
       "      <th>0</th>\n",
       "      <th>1</th>\n",
       "      <th>2</th>\n",
       "      <th>id</th>\n",
       "      <th>Wellbeing score</th>\n",
       "      <th>BuildingHeights</th>\n",
       "      <th>Integration</th>\n",
       "      <th>Flow</th>\n",
       "      <th>PTAL</th>\n",
       "      <th>Casualty</th>\n",
       "      <th>Fuel</th>\n",
       "      <th>Supermarket</th>\n",
       "      <th>Choice</th>\n",
       "      <th>CLUSTERS</th>\n",
       "    </tr>\n",
       "  </thead>\n",
       "  <tbody>\n",
       "    <tr>\n",
       "      <th>0</th>\n",
       "      <td>0.107729</td>\n",
       "      <td>1.572435</td>\n",
       "      <td>0.273597</td>\n",
       "      <td>1</td>\n",
       "      <td>0.134691</td>\n",
       "      <td>0.388653</td>\n",
       "      <td>0.000000</td>\n",
       "      <td>0.016541</td>\n",
       "      <td>0.022895</td>\n",
       "      <td>0.065243</td>\n",
       "      <td>0.056563</td>\n",
       "      <td>0.0</td>\n",
       "      <td>0.0</td>\n",
       "      <td>0</td>\n",
       "    </tr>\n",
       "    <tr>\n",
       "      <th>1</th>\n",
       "      <td>0.107729</td>\n",
       "      <td>1.572435</td>\n",
       "      <td>0.273597</td>\n",
       "      <td>2</td>\n",
       "      <td>0.134691</td>\n",
       "      <td>0.388653</td>\n",
       "      <td>0.000000</td>\n",
       "      <td>0.016541</td>\n",
       "      <td>0.022895</td>\n",
       "      <td>0.065243</td>\n",
       "      <td>0.056563</td>\n",
       "      <td>0.0</td>\n",
       "      <td>0.0</td>\n",
       "      <td>0</td>\n",
       "    </tr>\n",
       "    <tr>\n",
       "      <th>2</th>\n",
       "      <td>0.107729</td>\n",
       "      <td>1.572435</td>\n",
       "      <td>0.273597</td>\n",
       "      <td>3</td>\n",
       "      <td>0.134691</td>\n",
       "      <td>0.388653</td>\n",
       "      <td>0.000000</td>\n",
       "      <td>0.016541</td>\n",
       "      <td>0.022895</td>\n",
       "      <td>0.065243</td>\n",
       "      <td>0.056563</td>\n",
       "      <td>0.0</td>\n",
       "      <td>0.0</td>\n",
       "      <td>0</td>\n",
       "    </tr>\n",
       "    <tr>\n",
       "      <th>3</th>\n",
       "      <td>0.114871</td>\n",
       "      <td>1.574886</td>\n",
       "      <td>0.269831</td>\n",
       "      <td>4</td>\n",
       "      <td>0.134691</td>\n",
       "      <td>0.388653</td>\n",
       "      <td>0.001579</td>\n",
       "      <td>0.016909</td>\n",
       "      <td>0.022883</td>\n",
       "      <td>0.064801</td>\n",
       "      <td>0.056941</td>\n",
       "      <td>0.0</td>\n",
       "      <td>0.0</td>\n",
       "      <td>0</td>\n",
       "    </tr>\n",
       "    <tr>\n",
       "      <th>4</th>\n",
       "      <td>-1.624440</td>\n",
       "      <td>-0.576483</td>\n",
       "      <td>0.181067</td>\n",
       "      <td>5</td>\n",
       "      <td>0.134691</td>\n",
       "      <td>0.010464</td>\n",
       "      <td>0.000000</td>\n",
       "      <td>0.063591</td>\n",
       "      <td>0.021247</td>\n",
       "      <td>0.016348</td>\n",
       "      <td>0.099367</td>\n",
       "      <td>0.0</td>\n",
       "      <td>0.0</td>\n",
       "      <td>0</td>\n",
       "    </tr>\n",
       "  </tbody>\n",
       "</table>\n",
       "</div>"
      ],
      "text/plain": [
       "          0         1         2  id  Wellbeing score  BuildingHeights  \\\n",
       "0  0.107729  1.572435  0.273597   1         0.134691         0.388653   \n",
       "1  0.107729  1.572435  0.273597   2         0.134691         0.388653   \n",
       "2  0.107729  1.572435  0.273597   3         0.134691         0.388653   \n",
       "3  0.114871  1.574886  0.269831   4         0.134691         0.388653   \n",
       "4 -1.624440 -0.576483  0.181067   5         0.134691         0.010464   \n",
       "\n",
       "   Integration      Flow      PTAL  Casualty      Fuel  Supermarket  Choice  \\\n",
       "0     0.000000  0.016541  0.022895  0.065243  0.056563          0.0     0.0   \n",
       "1     0.000000  0.016541  0.022895  0.065243  0.056563          0.0     0.0   \n",
       "2     0.000000  0.016541  0.022895  0.065243  0.056563          0.0     0.0   \n",
       "3     0.001579  0.016909  0.022883  0.064801  0.056941          0.0     0.0   \n",
       "4     0.000000  0.063591  0.021247  0.016348  0.099367          0.0     0.0   \n",
       "\n",
       "   CLUSTERS  \n",
       "0         0  \n",
       "1         0  \n",
       "2         0  \n",
       "3         0  \n",
       "4         0  "
      ]
     },
     "execution_count": 85,
     "metadata": {},
     "output_type": "execute_result"
    }
   ],
   "source": [
    "df_final.head()"
   ]
  },
  {
   "cell_type": "code",
   "execution_count": 86,
   "metadata": {},
   "outputs": [],
   "source": [
    "df_final.to_csv('FinalResult9.csv', encoding='utf-8', index=False)"
   ]
  },
  {
   "cell_type": "code",
   "execution_count": null,
   "metadata": {},
   "outputs": [],
   "source": []
  }
 ],
 "metadata": {
  "kernelspec": {
   "display_name": "Python 3 (ipykernel)",
   "language": "python",
   "name": "python3"
  },
  "language_info": {
   "codemirror_mode": {
    "name": "ipython",
    "version": 3
   },
   "file_extension": ".py",
   "mimetype": "text/x-python",
   "name": "python",
   "nbconvert_exporter": "python",
   "pygments_lexer": "ipython3",
   "version": "3.11.5"
  }
 },
 "nbformat": 4,
 "nbformat_minor": 4
}
